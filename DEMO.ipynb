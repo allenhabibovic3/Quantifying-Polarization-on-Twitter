{
  "nbformat": 4,
  "nbformat_minor": 0,
  "metadata": {
    "colab": {
      "provenance": []
    },
    "kernelspec": {
      "name": "python3",
      "display_name": "Python 3"
    },
    "language_info": {
      "name": "python"
    }
  },
  "cells": [
    {
      "cell_type": "markdown",
      "source": [
        "https://www.journals.uchicago.edu/doi/10.1086/688938#_i2 \n",
        "This paper, from the University of Chicago Press Journals, identifies nine distinct properties of polarization or ways of measuring polarization within a topic. I select a few of these methods for my research purposes into defining and measuring social polarization in highly contreversial and relative topics today that are discussed on the social media platform, Twitter.\n",
        "\n",
        "**Property 1: Spread**\n",
        " refers to the total width of the opinions, or how far apart are the extremes in the distribution. This is the range of the opinions, calculated as the difference of the maximum stance value and the minimum stance value.\n",
        "\n",
        "![image](https://www.journals.uchicago.edu/cms/10.1086/688938/asset/images/medium/fg1_online.gif)\n",
        "\n",
        "Distribution B is more polarized as it has more spread(range), the difference between the maximum and the minimum belief is greater than that of distribution A. \n",
        "\n",
        "**Property 2: Dispersion**\n",
        "is the statistical dispersion of the distribution such as variation, standard deviation or entropy(disorder). For our purposes we select to do the standard deviation of the distribution. \n",
        "\n",
        "![image](https://www.journals.uchicago.edu/cms/10.1086/688938/asset/images/medium/fg2_online.gif)\n",
        "\n",
        "Distribution c shows greater polarization in the sense of dispersion than does belief distribution b, which is greater than distribution a.\n",
        "\n",
        "\n",
        "**Property 3: Coverage**\n",
        "refers to how polarized belief groups tend to take up a small range of beliefs and center near the median or central ideology. We can calculate the coverage by determining the percentage of the belief spectrum that is empty. \n",
        "\n",
        "![image](https://www.journals.uchicago.edu/cms/10.1086/688938/asset/images/medium/fg3_online.gif)\n",
        "\n",
        "Distribution a is more polarized than b in the sense of representing less coverage on the spectrum of potential belief. Although the plots show groups and differences in heights, neither of those features are aspects of polarization in the sense of coverage.\n",
        "\n",
        "**Property 4: Distinctness**\n",
        "refers to the amount the different group distributions can be separated. We can differentiate belief groups by defining meaningful intervals as: ANTI-GROUP = [0 - 0.4], NEUTRAL = (0.4, 0.6), PRO-GROUP = [0.6, 1] and find the difference of the median anti belief group and median pro belief group\n",
        "\n",
        "![image](https://www.journals.uchicago.edu/cms/10.1086/688938/asset/images/medium/fg8_online.gif)\n",
        "\n",
        "Distribution b shows greater polarization than a in terms of distinctness.\n",
        "\n",
        "**Property 5: Group Consensus**\n",
        "measures the statistical dispersion in each belief group. Since stances can be spread out anywhere from [0, 1], polarized belief groups tend to be closer to the central idea and therefore each belief group should have a small statistical variance. The smaller this sum for group consensus measurement the greater the polarization.\n",
        "\n",
        "![image](https://www.journals.uchicago.edu/cms/10.1086/688938/asset/images/medium/fg11_online.gif)\n",
        "\n",
        "Belief distribution b shows greater polarization than a in the sense of group consensus.\n",
        "\n",
        "**Property 6: Size Parity**\n",
        " polarized distributions often create different belief groups that are equivalent in size. \n",
        "\n",
        "![image](https://www.journals.uchicago.edu/cms/10.1086/688938/asset/images/medium/fg12_online.gif)\n",
        "\n",
        "Groups with comparable sizes are more polarized than a large group with smaller outliers; in the sense of size parity, belief distribution a is more polarized than b."
      ],
      "metadata": {
        "id": "0mZYo5e7AF6_"
      }
    },
    {
      "cell_type": "markdown",
      "source": [
        "## Import Needed Libraries"
      ],
      "metadata": {
        "id": "CrnIakmElH4Y"
      }
    },
    {
      "cell_type": "code",
      "source": [
        "import pandas as pd\n",
        "import numpy as np\n",
        "import matplotlib.pyplot as plt\n",
        "import seaborn as sns\n",
        "\n",
        "import tensorflow as tf\n",
        "import tensorflow_hub as hub\n",
        "import tensorflow_text as text\n",
        "\n",
        "%matplotlib inline"
      ],
      "metadata": {
        "id": "9f2lGOXSjG3S"
      },
      "execution_count": null,
      "outputs": []
    },
    {
      "cell_type": "markdown",
      "source": [
        "## Import Processed Twitter Data for Selected Topics(covid-vaccination, abortion rights, gun rights)"
      ],
      "metadata": {
        "id": "puCHTyO3lkeM"
      }
    },
    {
      "cell_type": "code",
      "source": [
        "covid_df = pd.read_csv(\"final.csv\")\n",
        "guns_df = pd.read_csv(\"guns_data_model_ready.csv\")\n",
        "abortion_df = pd.read_csv(\"abortion_topic_newfinal_polarization.csv\")"
      ],
      "metadata": {
        "id": "2MTKl8WXkGle"
      },
      "execution_count": null,
      "outputs": []
    },
    {
      "cell_type": "markdown",
      "source": [
        "# Covid Dataset \n",
        "\n",
        "A tweet that is pro-vax is labeled 1,\n",
        "\n",
        "A tweet that is anti-vax is labeled 0"
      ],
      "metadata": {
        "id": "WNvif1CJnSSq"
      }
    },
    {
      "cell_type": "code",
      "source": [
        "covid_df"
      ],
      "metadata": {
        "colab": {
          "base_uri": "https://localhost:8080/",
          "height": 424
        },
        "id": "qyDCwWKwmN3L",
        "outputId": "639ba797-6410-4e52-ef00-4e7d502f7e75"
      },
      "execution_count": null,
      "outputs": [
        {
          "output_type": "execute_result",
          "data": {
            "text/plain": [
              "                                                hashtag  \\\n",
              "0                                      ['vaccineswork']   \n",
              "1                                      ['vaccineswork']   \n",
              "2                  ['vaccinesdontwork', 'covidvaccine']   \n",
              "3     ['democratswarn', 'stopthespread', 'vaccinesdo...   \n",
              "4        ['vaccinebust', 'vaccinesdontwork', 'vaccine']   \n",
              "...                                                 ...   \n",
              "2858  ['booster', 'vaccinesdontwork', 'vaccinated', ...   \n",
              "2859                                   ['vaccineswork']   \n",
              "2860  ['fakenews', 'fakebiden', 'vaccinesdontwork', ...   \n",
              "2862  ['4thshot', '4emedose', 'booster', 'vaccinesdo...   \n",
              "2863              ['vaccineswork', 'wellnesswednesday']   \n",
              "\n",
              "                                   str_processed_tweets  label  \n",
              "0                           get vaccinated vaccine work      1  \n",
              "1     join u webinar strategic engagement religious ...      1  \n",
              "2     anyone else doctor pro vaccine democrat refuse...      0  \n",
              "3     yet another democrat warn alert admitting inte...      0  \n",
              "4     update many public event requiring vaccinated ...      0  \n",
              "...                                                 ...    ...  \n",
              "2858  within one year th booster horizon limit vacci...      0  \n",
              "2859                                       vaccine work      1  \n",
              "2860  real biden fake news fake biden vaccine work j...      0  \n",
              "2862  news classic th th vaccination shot becomes re...      0  \n",
              "2863  take advantage wellness wednesday get vaccinat...      1  \n",
              "\n",
              "[2863 rows x 3 columns]"
            ],
            "text/html": [
              "\n",
              "  <div id=\"df-0111fb4f-cc23-4454-b313-2fbb967a660b\">\n",
              "    <div class=\"colab-df-container\">\n",
              "      <div>\n",
              "<style scoped>\n",
              "    .dataframe tbody tr th:only-of-type {\n",
              "        vertical-align: middle;\n",
              "    }\n",
              "\n",
              "    .dataframe tbody tr th {\n",
              "        vertical-align: top;\n",
              "    }\n",
              "\n",
              "    .dataframe thead th {\n",
              "        text-align: right;\n",
              "    }\n",
              "</style>\n",
              "<table border=\"1\" class=\"dataframe\">\n",
              "  <thead>\n",
              "    <tr style=\"text-align: right;\">\n",
              "      <th></th>\n",
              "      <th>hashtag</th>\n",
              "      <th>str_processed_tweets</th>\n",
              "      <th>label</th>\n",
              "    </tr>\n",
              "  </thead>\n",
              "  <tbody>\n",
              "    <tr>\n",
              "      <th>0</th>\n",
              "      <td>['vaccineswork']</td>\n",
              "      <td>get vaccinated vaccine work</td>\n",
              "      <td>1</td>\n",
              "    </tr>\n",
              "    <tr>\n",
              "      <th>1</th>\n",
              "      <td>['vaccineswork']</td>\n",
              "      <td>join u webinar strategic engagement religious ...</td>\n",
              "      <td>1</td>\n",
              "    </tr>\n",
              "    <tr>\n",
              "      <th>2</th>\n",
              "      <td>['vaccinesdontwork', 'covidvaccine']</td>\n",
              "      <td>anyone else doctor pro vaccine democrat refuse...</td>\n",
              "      <td>0</td>\n",
              "    </tr>\n",
              "    <tr>\n",
              "      <th>3</th>\n",
              "      <td>['democratswarn', 'stopthespread', 'vaccinesdo...</td>\n",
              "      <td>yet another democrat warn alert admitting inte...</td>\n",
              "      <td>0</td>\n",
              "    </tr>\n",
              "    <tr>\n",
              "      <th>4</th>\n",
              "      <td>['vaccinebust', 'vaccinesdontwork', 'vaccine']</td>\n",
              "      <td>update many public event requiring vaccinated ...</td>\n",
              "      <td>0</td>\n",
              "    </tr>\n",
              "    <tr>\n",
              "      <th>...</th>\n",
              "      <td>...</td>\n",
              "      <td>...</td>\n",
              "      <td>...</td>\n",
              "    </tr>\n",
              "    <tr>\n",
              "      <th>2858</th>\n",
              "      <td>['booster', 'vaccinesdontwork', 'vaccinated', ...</td>\n",
              "      <td>within one year th booster horizon limit vacci...</td>\n",
              "      <td>0</td>\n",
              "    </tr>\n",
              "    <tr>\n",
              "      <th>2859</th>\n",
              "      <td>['vaccineswork']</td>\n",
              "      <td>vaccine work</td>\n",
              "      <td>1</td>\n",
              "    </tr>\n",
              "    <tr>\n",
              "      <th>2860</th>\n",
              "      <td>['fakenews', 'fakebiden', 'vaccinesdontwork', ...</td>\n",
              "      <td>real biden fake news fake biden vaccine work j...</td>\n",
              "      <td>0</td>\n",
              "    </tr>\n",
              "    <tr>\n",
              "      <th>2862</th>\n",
              "      <td>['4thshot', '4emedose', 'booster', 'vaccinesdo...</td>\n",
              "      <td>news classic th th vaccination shot becomes re...</td>\n",
              "      <td>0</td>\n",
              "    </tr>\n",
              "    <tr>\n",
              "      <th>2863</th>\n",
              "      <td>['vaccineswork', 'wellnesswednesday']</td>\n",
              "      <td>take advantage wellness wednesday get vaccinat...</td>\n",
              "      <td>1</td>\n",
              "    </tr>\n",
              "  </tbody>\n",
              "</table>\n",
              "<p>2863 rows × 3 columns</p>\n",
              "</div>\n",
              "      <button class=\"colab-df-convert\" onclick=\"convertToInteractive('df-0111fb4f-cc23-4454-b313-2fbb967a660b')\"\n",
              "              title=\"Convert this dataframe to an interactive table.\"\n",
              "              style=\"display:none;\">\n",
              "        \n",
              "  <svg xmlns=\"http://www.w3.org/2000/svg\" height=\"24px\"viewBox=\"0 0 24 24\"\n",
              "       width=\"24px\">\n",
              "    <path d=\"M0 0h24v24H0V0z\" fill=\"none\"/>\n",
              "    <path d=\"M18.56 5.44l.94 2.06.94-2.06 2.06-.94-2.06-.94-.94-2.06-.94 2.06-2.06.94zm-11 1L8.5 8.5l.94-2.06 2.06-.94-2.06-.94L8.5 2.5l-.94 2.06-2.06.94zm10 10l.94 2.06.94-2.06 2.06-.94-2.06-.94-.94-2.06-.94 2.06-2.06.94z\"/><path d=\"M17.41 7.96l-1.37-1.37c-.4-.4-.92-.59-1.43-.59-.52 0-1.04.2-1.43.59L10.3 9.45l-7.72 7.72c-.78.78-.78 2.05 0 2.83L4 21.41c.39.39.9.59 1.41.59.51 0 1.02-.2 1.41-.59l7.78-7.78 2.81-2.81c.8-.78.8-2.07 0-2.86zM5.41 20L4 18.59l7.72-7.72 1.47 1.35L5.41 20z\"/>\n",
              "  </svg>\n",
              "      </button>\n",
              "      \n",
              "  <style>\n",
              "    .colab-df-container {\n",
              "      display:flex;\n",
              "      flex-wrap:wrap;\n",
              "      gap: 12px;\n",
              "    }\n",
              "\n",
              "    .colab-df-convert {\n",
              "      background-color: #E8F0FE;\n",
              "      border: none;\n",
              "      border-radius: 50%;\n",
              "      cursor: pointer;\n",
              "      display: none;\n",
              "      fill: #1967D2;\n",
              "      height: 32px;\n",
              "      padding: 0 0 0 0;\n",
              "      width: 32px;\n",
              "    }\n",
              "\n",
              "    .colab-df-convert:hover {\n",
              "      background-color: #E2EBFA;\n",
              "      box-shadow: 0px 1px 2px rgba(60, 64, 67, 0.3), 0px 1px 3px 1px rgba(60, 64, 67, 0.15);\n",
              "      fill: #174EA6;\n",
              "    }\n",
              "\n",
              "    [theme=dark] .colab-df-convert {\n",
              "      background-color: #3B4455;\n",
              "      fill: #D2E3FC;\n",
              "    }\n",
              "\n",
              "    [theme=dark] .colab-df-convert:hover {\n",
              "      background-color: #434B5C;\n",
              "      box-shadow: 0px 1px 3px 1px rgba(0, 0, 0, 0.15);\n",
              "      filter: drop-shadow(0px 1px 2px rgba(0, 0, 0, 0.3));\n",
              "      fill: #FFFFFF;\n",
              "    }\n",
              "  </style>\n",
              "\n",
              "      <script>\n",
              "        const buttonEl =\n",
              "          document.querySelector('#df-0111fb4f-cc23-4454-b313-2fbb967a660b button.colab-df-convert');\n",
              "        buttonEl.style.display =\n",
              "          google.colab.kernel.accessAllowed ? 'block' : 'none';\n",
              "\n",
              "        async function convertToInteractive(key) {\n",
              "          const element = document.querySelector('#df-0111fb4f-cc23-4454-b313-2fbb967a660b');\n",
              "          const dataTable =\n",
              "            await google.colab.kernel.invokeFunction('convertToInteractive',\n",
              "                                                     [key], {});\n",
              "          if (!dataTable) return;\n",
              "\n",
              "          const docLinkHtml = 'Like what you see? Visit the ' +\n",
              "            '<a target=\"_blank\" href=https://colab.research.google.com/notebooks/data_table.ipynb>data table notebook</a>'\n",
              "            + ' to learn more about interactive tables.';\n",
              "          element.innerHTML = '';\n",
              "          dataTable['output_type'] = 'display_data';\n",
              "          await google.colab.output.renderOutput(dataTable, element);\n",
              "          const docLink = document.createElement('div');\n",
              "          docLink.innerHTML = docLinkHtml;\n",
              "          element.appendChild(docLink);\n",
              "        }\n",
              "      </script>\n",
              "    </div>\n",
              "  </div>\n",
              "  "
            ]
          },
          "metadata": {},
          "execution_count": 7
        }
      ]
    },
    {
      "cell_type": "markdown",
      "source": [
        "## Gun Rights data\n",
        "\n",
        "A tweet that is pro-gun rights is labeled 1,\n",
        "\n",
        "A tweet that is against guns is labeled 0"
      ],
      "metadata": {
        "id": "xaw-fJRQnzA7"
      }
    },
    {
      "cell_type": "code",
      "source": [
        "guns_df"
      ],
      "metadata": {
        "colab": {
          "base_uri": "https://localhost:8080/",
          "height": 424
        },
        "id": "USeMypmwmRsH",
        "outputId": "d96c4c48-1a70-46db-d76c-6e92516ec3b5"
      },
      "execution_count": null,
      "outputs": [
        {
          "output_type": "execute_result",
          "data": {
            "text/plain": [
              "                          str_preprocessed_tweets_final  label\n",
              "0                 well regulated shall not be infringed      1\n",
              "1     wow just wow gun control now ban assault weapo...      0\n",
              "2     alexander hamilton that standing army can neve...      1\n",
              "3     ted cruz is the worst ted cruz ha blood on his...      0\n",
              "4     shall not be infringed by any mean the fact th...      1\n",
              "...                                                 ...    ...\n",
              "5755  you couldn make make get vaxxed much le give m...      1\n",
              "5756  whoopi goldberg slam texas gov abbott for sign...      1\n",
              "5757                       wrong shall not be infringed      1\n",
              "5758  shall not be infringed nd amendment shallnotbe...      1\n",
              "5759  second amendment is my right it say well regul...      1\n",
              "\n",
              "[5760 rows x 2 columns]"
            ],
            "text/html": [
              "\n",
              "  <div id=\"df-39a19cb9-a7bb-441a-973a-9d1bb6591e4c\">\n",
              "    <div class=\"colab-df-container\">\n",
              "      <div>\n",
              "<style scoped>\n",
              "    .dataframe tbody tr th:only-of-type {\n",
              "        vertical-align: middle;\n",
              "    }\n",
              "\n",
              "    .dataframe tbody tr th {\n",
              "        vertical-align: top;\n",
              "    }\n",
              "\n",
              "    .dataframe thead th {\n",
              "        text-align: right;\n",
              "    }\n",
              "</style>\n",
              "<table border=\"1\" class=\"dataframe\">\n",
              "  <thead>\n",
              "    <tr style=\"text-align: right;\">\n",
              "      <th></th>\n",
              "      <th>str_preprocessed_tweets_final</th>\n",
              "      <th>label</th>\n",
              "    </tr>\n",
              "  </thead>\n",
              "  <tbody>\n",
              "    <tr>\n",
              "      <th>0</th>\n",
              "      <td>well regulated shall not be infringed</td>\n",
              "      <td>1</td>\n",
              "    </tr>\n",
              "    <tr>\n",
              "      <th>1</th>\n",
              "      <td>wow just wow gun control now ban assault weapo...</td>\n",
              "      <td>0</td>\n",
              "    </tr>\n",
              "    <tr>\n",
              "      <th>2</th>\n",
              "      <td>alexander hamilton that standing army can neve...</td>\n",
              "      <td>1</td>\n",
              "    </tr>\n",
              "    <tr>\n",
              "      <th>3</th>\n",
              "      <td>ted cruz is the worst ted cruz ha blood on his...</td>\n",
              "      <td>0</td>\n",
              "    </tr>\n",
              "    <tr>\n",
              "      <th>4</th>\n",
              "      <td>shall not be infringed by any mean the fact th...</td>\n",
              "      <td>1</td>\n",
              "    </tr>\n",
              "    <tr>\n",
              "      <th>...</th>\n",
              "      <td>...</td>\n",
              "      <td>...</td>\n",
              "    </tr>\n",
              "    <tr>\n",
              "      <th>5755</th>\n",
              "      <td>you couldn make make get vaxxed much le give m...</td>\n",
              "      <td>1</td>\n",
              "    </tr>\n",
              "    <tr>\n",
              "      <th>5756</th>\n",
              "      <td>whoopi goldberg slam texas gov abbott for sign...</td>\n",
              "      <td>1</td>\n",
              "    </tr>\n",
              "    <tr>\n",
              "      <th>5757</th>\n",
              "      <td>wrong shall not be infringed</td>\n",
              "      <td>1</td>\n",
              "    </tr>\n",
              "    <tr>\n",
              "      <th>5758</th>\n",
              "      <td>shall not be infringed nd amendment shallnotbe...</td>\n",
              "      <td>1</td>\n",
              "    </tr>\n",
              "    <tr>\n",
              "      <th>5759</th>\n",
              "      <td>second amendment is my right it say well regul...</td>\n",
              "      <td>1</td>\n",
              "    </tr>\n",
              "  </tbody>\n",
              "</table>\n",
              "<p>5760 rows × 2 columns</p>\n",
              "</div>\n",
              "      <button class=\"colab-df-convert\" onclick=\"convertToInteractive('df-39a19cb9-a7bb-441a-973a-9d1bb6591e4c')\"\n",
              "              title=\"Convert this dataframe to an interactive table.\"\n",
              "              style=\"display:none;\">\n",
              "        \n",
              "  <svg xmlns=\"http://www.w3.org/2000/svg\" height=\"24px\"viewBox=\"0 0 24 24\"\n",
              "       width=\"24px\">\n",
              "    <path d=\"M0 0h24v24H0V0z\" fill=\"none\"/>\n",
              "    <path d=\"M18.56 5.44l.94 2.06.94-2.06 2.06-.94-2.06-.94-.94-2.06-.94 2.06-2.06.94zm-11 1L8.5 8.5l.94-2.06 2.06-.94-2.06-.94L8.5 2.5l-.94 2.06-2.06.94zm10 10l.94 2.06.94-2.06 2.06-.94-2.06-.94-.94-2.06-.94 2.06-2.06.94z\"/><path d=\"M17.41 7.96l-1.37-1.37c-.4-.4-.92-.59-1.43-.59-.52 0-1.04.2-1.43.59L10.3 9.45l-7.72 7.72c-.78.78-.78 2.05 0 2.83L4 21.41c.39.39.9.59 1.41.59.51 0 1.02-.2 1.41-.59l7.78-7.78 2.81-2.81c.8-.78.8-2.07 0-2.86zM5.41 20L4 18.59l7.72-7.72 1.47 1.35L5.41 20z\"/>\n",
              "  </svg>\n",
              "      </button>\n",
              "      \n",
              "  <style>\n",
              "    .colab-df-container {\n",
              "      display:flex;\n",
              "      flex-wrap:wrap;\n",
              "      gap: 12px;\n",
              "    }\n",
              "\n",
              "    .colab-df-convert {\n",
              "      background-color: #E8F0FE;\n",
              "      border: none;\n",
              "      border-radius: 50%;\n",
              "      cursor: pointer;\n",
              "      display: none;\n",
              "      fill: #1967D2;\n",
              "      height: 32px;\n",
              "      padding: 0 0 0 0;\n",
              "      width: 32px;\n",
              "    }\n",
              "\n",
              "    .colab-df-convert:hover {\n",
              "      background-color: #E2EBFA;\n",
              "      box-shadow: 0px 1px 2px rgba(60, 64, 67, 0.3), 0px 1px 3px 1px rgba(60, 64, 67, 0.15);\n",
              "      fill: #174EA6;\n",
              "    }\n",
              "\n",
              "    [theme=dark] .colab-df-convert {\n",
              "      background-color: #3B4455;\n",
              "      fill: #D2E3FC;\n",
              "    }\n",
              "\n",
              "    [theme=dark] .colab-df-convert:hover {\n",
              "      background-color: #434B5C;\n",
              "      box-shadow: 0px 1px 3px 1px rgba(0, 0, 0, 0.15);\n",
              "      filter: drop-shadow(0px 1px 2px rgba(0, 0, 0, 0.3));\n",
              "      fill: #FFFFFF;\n",
              "    }\n",
              "  </style>\n",
              "\n",
              "      <script>\n",
              "        const buttonEl =\n",
              "          document.querySelector('#df-39a19cb9-a7bb-441a-973a-9d1bb6591e4c button.colab-df-convert');\n",
              "        buttonEl.style.display =\n",
              "          google.colab.kernel.accessAllowed ? 'block' : 'none';\n",
              "\n",
              "        async function convertToInteractive(key) {\n",
              "          const element = document.querySelector('#df-39a19cb9-a7bb-441a-973a-9d1bb6591e4c');\n",
              "          const dataTable =\n",
              "            await google.colab.kernel.invokeFunction('convertToInteractive',\n",
              "                                                     [key], {});\n",
              "          if (!dataTable) return;\n",
              "\n",
              "          const docLinkHtml = 'Like what you see? Visit the ' +\n",
              "            '<a target=\"_blank\" href=https://colab.research.google.com/notebooks/data_table.ipynb>data table notebook</a>'\n",
              "            + ' to learn more about interactive tables.';\n",
              "          element.innerHTML = '';\n",
              "          dataTable['output_type'] = 'display_data';\n",
              "          await google.colab.output.renderOutput(dataTable, element);\n",
              "          const docLink = document.createElement('div');\n",
              "          docLink.innerHTML = docLinkHtml;\n",
              "          element.appendChild(docLink);\n",
              "        }\n",
              "      </script>\n",
              "    </div>\n",
              "  </div>\n",
              "  "
            ]
          },
          "metadata": {},
          "execution_count": 9
        }
      ]
    },
    {
      "cell_type": "markdown",
      "source": [
        "## Abortion topic data\n",
        "\n",
        "A pro-life tweet is labeled with a 0.\n",
        "\n",
        "A pro-choice tweet is labeled with a 1. "
      ],
      "metadata": {
        "id": "kiE_qC_FpdLG"
      }
    },
    {
      "cell_type": "code",
      "source": [
        "abortion_df"
      ],
      "metadata": {
        "colab": {
          "base_uri": "https://localhost:8080/",
          "height": 424
        },
        "id": "JFyKCg_ankYm",
        "outputId": "d370692c-0946-4fbe-b947-c4e1609cbb5b"
      },
      "execution_count": null,
      "outputs": [
        {
          "output_type": "execute_result",
          "data": {
            "text/plain": [
              "                                                hashtag  \\\n",
              "0                                      abortionismurder   \n",
              "1         vote abortionismurder abortionisnothealthcare   \n",
              "2     stopkihikasabortionbill abortionpills abortion...   \n",
              "3     thisistheway abortionisnothealthcare abortioni...   \n",
              "4                         antiabortion abortionismurder   \n",
              "...                                                 ...   \n",
              "4866                   mybodymychoice myrightmydecision   \n",
              "4867                          mybodymychoice coronahoax   \n",
              "4868  abortionishealthcare abortionrightsarehumanrig...   \n",
              "4869  junemedicalservices abortionisaright abortioni...   \n",
              "4870                      abortionrights mybodymychoice   \n",
              "\n",
              "                          str_preprocessed_tweets_final  stance  \n",
              "0     uuf you are there hoping to kill our unborn ab...       0  \n",
              "1     there is only one way to save new life it is t...       0  \n",
              "2     below is list of typical reaction that may be ...       0  \n",
              "3     abortion isn healthcare and taxation is theft ...       0  \n",
              "4     anti abortion abortion is murder abortion save...       0  \n",
              "...                                                 ...     ...  \n",
              "4866  so far today this year my body my choice my ri...       1  \n",
              "4867  disagree good job people live your life and fu...       1  \n",
              "4868  you can be pro life but anti government contro...       1  \n",
              "4869  today is scotus decision day et my colleague a...       1  \n",
              "4870  what astonishingly good news good news everyon...       1  \n",
              "\n",
              "[4871 rows x 3 columns]"
            ],
            "text/html": [
              "\n",
              "  <div id=\"df-d7953906-5e48-4cc5-b12c-3fd45471b49e\">\n",
              "    <div class=\"colab-df-container\">\n",
              "      <div>\n",
              "<style scoped>\n",
              "    .dataframe tbody tr th:only-of-type {\n",
              "        vertical-align: middle;\n",
              "    }\n",
              "\n",
              "    .dataframe tbody tr th {\n",
              "        vertical-align: top;\n",
              "    }\n",
              "\n",
              "    .dataframe thead th {\n",
              "        text-align: right;\n",
              "    }\n",
              "</style>\n",
              "<table border=\"1\" class=\"dataframe\">\n",
              "  <thead>\n",
              "    <tr style=\"text-align: right;\">\n",
              "      <th></th>\n",
              "      <th>hashtag</th>\n",
              "      <th>str_preprocessed_tweets_final</th>\n",
              "      <th>stance</th>\n",
              "    </tr>\n",
              "  </thead>\n",
              "  <tbody>\n",
              "    <tr>\n",
              "      <th>0</th>\n",
              "      <td>abortionismurder</td>\n",
              "      <td>uuf you are there hoping to kill our unborn ab...</td>\n",
              "      <td>0</td>\n",
              "    </tr>\n",
              "    <tr>\n",
              "      <th>1</th>\n",
              "      <td>vote abortionismurder abortionisnothealthcare</td>\n",
              "      <td>there is only one way to save new life it is t...</td>\n",
              "      <td>0</td>\n",
              "    </tr>\n",
              "    <tr>\n",
              "      <th>2</th>\n",
              "      <td>stopkihikasabortionbill abortionpills abortion...</td>\n",
              "      <td>below is list of typical reaction that may be ...</td>\n",
              "      <td>0</td>\n",
              "    </tr>\n",
              "    <tr>\n",
              "      <th>3</th>\n",
              "      <td>thisistheway abortionisnothealthcare abortioni...</td>\n",
              "      <td>abortion isn healthcare and taxation is theft ...</td>\n",
              "      <td>0</td>\n",
              "    </tr>\n",
              "    <tr>\n",
              "      <th>4</th>\n",
              "      <td>antiabortion abortionismurder</td>\n",
              "      <td>anti abortion abortion is murder abortion save...</td>\n",
              "      <td>0</td>\n",
              "    </tr>\n",
              "    <tr>\n",
              "      <th>...</th>\n",
              "      <td>...</td>\n",
              "      <td>...</td>\n",
              "      <td>...</td>\n",
              "    </tr>\n",
              "    <tr>\n",
              "      <th>4866</th>\n",
              "      <td>mybodymychoice myrightmydecision</td>\n",
              "      <td>so far today this year my body my choice my ri...</td>\n",
              "      <td>1</td>\n",
              "    </tr>\n",
              "    <tr>\n",
              "      <th>4867</th>\n",
              "      <td>mybodymychoice coronahoax</td>\n",
              "      <td>disagree good job people live your life and fu...</td>\n",
              "      <td>1</td>\n",
              "    </tr>\n",
              "    <tr>\n",
              "      <th>4868</th>\n",
              "      <td>abortionishealthcare abortionrightsarehumanrig...</td>\n",
              "      <td>you can be pro life but anti government contro...</td>\n",
              "      <td>1</td>\n",
              "    </tr>\n",
              "    <tr>\n",
              "      <th>4869</th>\n",
              "      <td>junemedicalservices abortionisaright abortioni...</td>\n",
              "      <td>today is scotus decision day et my colleague a...</td>\n",
              "      <td>1</td>\n",
              "    </tr>\n",
              "    <tr>\n",
              "      <th>4870</th>\n",
              "      <td>abortionrights mybodymychoice</td>\n",
              "      <td>what astonishingly good news good news everyon...</td>\n",
              "      <td>1</td>\n",
              "    </tr>\n",
              "  </tbody>\n",
              "</table>\n",
              "<p>4871 rows × 3 columns</p>\n",
              "</div>\n",
              "      <button class=\"colab-df-convert\" onclick=\"convertToInteractive('df-d7953906-5e48-4cc5-b12c-3fd45471b49e')\"\n",
              "              title=\"Convert this dataframe to an interactive table.\"\n",
              "              style=\"display:none;\">\n",
              "        \n",
              "  <svg xmlns=\"http://www.w3.org/2000/svg\" height=\"24px\"viewBox=\"0 0 24 24\"\n",
              "       width=\"24px\">\n",
              "    <path d=\"M0 0h24v24H0V0z\" fill=\"none\"/>\n",
              "    <path d=\"M18.56 5.44l.94 2.06.94-2.06 2.06-.94-2.06-.94-.94-2.06-.94 2.06-2.06.94zm-11 1L8.5 8.5l.94-2.06 2.06-.94-2.06-.94L8.5 2.5l-.94 2.06-2.06.94zm10 10l.94 2.06.94-2.06 2.06-.94-2.06-.94-.94-2.06-.94 2.06-2.06.94z\"/><path d=\"M17.41 7.96l-1.37-1.37c-.4-.4-.92-.59-1.43-.59-.52 0-1.04.2-1.43.59L10.3 9.45l-7.72 7.72c-.78.78-.78 2.05 0 2.83L4 21.41c.39.39.9.59 1.41.59.51 0 1.02-.2 1.41-.59l7.78-7.78 2.81-2.81c.8-.78.8-2.07 0-2.86zM5.41 20L4 18.59l7.72-7.72 1.47 1.35L5.41 20z\"/>\n",
              "  </svg>\n",
              "      </button>\n",
              "      \n",
              "  <style>\n",
              "    .colab-df-container {\n",
              "      display:flex;\n",
              "      flex-wrap:wrap;\n",
              "      gap: 12px;\n",
              "    }\n",
              "\n",
              "    .colab-df-convert {\n",
              "      background-color: #E8F0FE;\n",
              "      border: none;\n",
              "      border-radius: 50%;\n",
              "      cursor: pointer;\n",
              "      display: none;\n",
              "      fill: #1967D2;\n",
              "      height: 32px;\n",
              "      padding: 0 0 0 0;\n",
              "      width: 32px;\n",
              "    }\n",
              "\n",
              "    .colab-df-convert:hover {\n",
              "      background-color: #E2EBFA;\n",
              "      box-shadow: 0px 1px 2px rgba(60, 64, 67, 0.3), 0px 1px 3px 1px rgba(60, 64, 67, 0.15);\n",
              "      fill: #174EA6;\n",
              "    }\n",
              "\n",
              "    [theme=dark] .colab-df-convert {\n",
              "      background-color: #3B4455;\n",
              "      fill: #D2E3FC;\n",
              "    }\n",
              "\n",
              "    [theme=dark] .colab-df-convert:hover {\n",
              "      background-color: #434B5C;\n",
              "      box-shadow: 0px 1px 3px 1px rgba(0, 0, 0, 0.15);\n",
              "      filter: drop-shadow(0px 1px 2px rgba(0, 0, 0, 0.3));\n",
              "      fill: #FFFFFF;\n",
              "    }\n",
              "  </style>\n",
              "\n",
              "      <script>\n",
              "        const buttonEl =\n",
              "          document.querySelector('#df-d7953906-5e48-4cc5-b12c-3fd45471b49e button.colab-df-convert');\n",
              "        buttonEl.style.display =\n",
              "          google.colab.kernel.accessAllowed ? 'block' : 'none';\n",
              "\n",
              "        async function convertToInteractive(key) {\n",
              "          const element = document.querySelector('#df-d7953906-5e48-4cc5-b12c-3fd45471b49e');\n",
              "          const dataTable =\n",
              "            await google.colab.kernel.invokeFunction('convertToInteractive',\n",
              "                                                     [key], {});\n",
              "          if (!dataTable) return;\n",
              "\n",
              "          const docLinkHtml = 'Like what you see? Visit the ' +\n",
              "            '<a target=\"_blank\" href=https://colab.research.google.com/notebooks/data_table.ipynb>data table notebook</a>'\n",
              "            + ' to learn more about interactive tables.';\n",
              "          element.innerHTML = '';\n",
              "          dataTable['output_type'] = 'display_data';\n",
              "          await google.colab.output.renderOutput(dataTable, element);\n",
              "          const docLink = document.createElement('div');\n",
              "          docLink.innerHTML = docLinkHtml;\n",
              "          element.appendChild(docLink);\n",
              "        }\n",
              "      </script>\n",
              "    </div>\n",
              "  </div>\n",
              "  "
            ]
          },
          "metadata": {},
          "execution_count": 12
        }
      ]
    },
    {
      "cell_type": "markdown",
      "source": [
        "## Load in fine tuned BeRT Models"
      ],
      "metadata": {
        "id": "-os9ic7gp644"
      }
    },
    {
      "cell_type": "code",
      "source": [
        "covid_reloaded_model = tf.saved_model.load(\"/content/drive/MyDrive/bert_covid_vaccine_classifier_final\")\n",
        "abortion_reloaded_model = tf.saved_model.load(\"/content/drive/MyDrive/bert_abortion_topic_classifier_final\")\n",
        "guns_reloaded_model = tf.saved_model.load(\"/content/drive/MyDrive/bert_gun_classifier_final\")"
      ],
      "metadata": {
        "id": "M0oPRc46oUeD"
      },
      "execution_count": null,
      "outputs": []
    },
    {
      "cell_type": "markdown",
      "source": [
        "## Perform Stance Detection on test set using BeRT Models Respectively\n",
        "\n",
        "This is done to get a continous range [0, 1] to analyze and get a useful metric for polarization instead of having a discrete label. "
      ],
      "metadata": {
        "id": "_UHRMDq5rUPx"
      }
    },
    {
      "cell_type": "markdown",
      "source": [
        "# Covid Vaccination Stance/Belief Distribution"
      ],
      "metadata": {
        "id": "IFsxFWxYtZTm"
      }
    },
    {
      "cell_type": "code",
      "source": [
        "from sklearn.model_selection import train_test_split\n",
        "\n",
        "X = covid_df['str_processed_tweets'].values\n",
        "y = covid_df['label'].values\n",
        "\n",
        "X_train, X_test, y_train, y_test = train_test_split(X, y, test_size=0.2, random_state=0)\n",
        "\n",
        "results = tf.sigmoid(covid_reloaded_model(tf.constant(X_test)))\n",
        "\n",
        "sns.distplot(results, bins=50)"
      ],
      "metadata": {
        "colab": {
          "base_uri": "https://localhost:8080/",
          "height": 337
        },
        "id": "HSmKfzp6qtMO",
        "outputId": "8ecb3b15-e1ac-4735-9931-33035967638a"
      },
      "execution_count": null,
      "outputs": [
        {
          "output_type": "stream",
          "name": "stderr",
          "text": [
            "/usr/local/lib/python3.7/dist-packages/seaborn/distributions.py:2619: FutureWarning: `distplot` is a deprecated function and will be removed in a future version. Please adapt your code to use either `displot` (a figure-level function with similar flexibility) or `histplot` (an axes-level function for histograms).\n",
            "  warnings.warn(msg, FutureWarning)\n"
          ]
        },
        {
          "output_type": "execute_result",
          "data": {
            "text/plain": [
              "<matplotlib.axes._subplots.AxesSubplot at 0x7ffa69aef690>"
            ]
          },
          "metadata": {},
          "execution_count": 14
        },
        {
          "output_type": "display_data",
          "data": {
            "text/plain": [
              "<Figure size 432x288 with 1 Axes>"
            ],
            "image/png": "[encoded data removed]"
          },
          "metadata": {
            "needs_background": "light"
          }
        }
      ]
    },
    {
      "cell_type": "code",
      "source": [
        "#@title\n",
        "# Custom Stance Detection for covid related vaccination text\n",
        "\n",
        "examples = [\n",
        "    'everyone should get vaccinated they save lives and they work and are safe',\n",
        "    'vaccines are necessary and prevent the spread of covid!',\n",
        "    'vaccines are harmful it is all a lie and propaganda',\n",
        "    'expose the truth no masks no vaccines',\n",
        "    'i got vaccinated today and i feel great',\n",
        "    'covid is fake'\n",
        "]\n",
        "\n",
        "def print_my_examples(inputs, results):\n",
        "  result_for_printing = \\\n",
        "    [f'input: {inputs[i]:<30} : score: {results[i][0]:.6f}' \n",
        "                         for i in range(len(inputs))]\n",
        "  print(*result_for_printing, sep='\\n')\n",
        "  print()\n",
        "\n",
        "\n",
        "custom_results = tf.sigmoid(covid_reloaded_model(tf.constant(examples)))\n",
        "print_my_examples(examples, custom_results)"
      ],
      "metadata": {
        "colab": {
          "base_uri": "https://localhost:8080/"
        },
        "cellView": "form",
        "id": "mt-r3XK8l8am",
        "outputId": "70d26b0c-d64b-4260-dd97-0d1b8e4140c7"
      },
      "execution_count": null,
      "outputs": [
        {
          "output_type": "stream",
          "name": "stdout",
          "text": [
            "input: everyone should get vaccinated they save lives and they work and are safe : score: 0.899951\n",
            "input: vaccines are necessary and prevent the spread of covid! : score: 0.729645\n",
            "input: vaccines are harmful it is all a lie and propaganda : score: 0.276053\n",
            "input: expose the truth no masks no vaccines : score: 0.214180\n",
            "input: i got vaccinated today and i feel great : score: 0.823324\n",
            "input: covid is fake                  : score: 0.385908\n",
            "\n"
          ]
        }
      ]
    },
    {
      "cell_type": "code",
      "source": [
        "#Determining the Polarization from the above distribution. \n",
        "\n",
        "#Using the 6 properties of Polarization, I can determine some metrics on how polarized this topic is. \n",
        "\n",
        "#1.)Spread: The dataset is very spread out from [0, 1], i can calculate the spread of this dataset by\n",
        "#subtracting the minimum stance value from the maximum stance value\n",
        "\n",
        "results_array = np.array(results)\n",
        "min_stance = results_array.min()\n",
        "max_stance = results_array.max()\n",
        "\n",
        "spread = max_stance - min_stance\n",
        "\n",
        "print(\"Below are the calculations for each of the 6 properties defined for polarization\")\n",
        "print(\"This all relates to the topic of vaccination during the covid-19 pandemic.\\n\")\n",
        "print(f\"The spread of this dataset: {spread}\")\n",
        "\n",
        "\n",
        "from numpy import mean, absolute\n",
        "#print(f\"The absolute mean deviation of this dataset: {mean(absolute(results_array-mean(results_array)))}\")\n",
        "print(f\"The standard deviation of this dataset: {results_array.std()}\")\n",
        "#print(f\"The variation of this dataset: {results_array.var()}\")\n",
        "\n",
        "coverage = 0\n",
        "print(f\"The coverage of this distribution is: {coverage}, there are no empty bins\")\n",
        "\n",
        "#4.)Distinctness: for this calculation i will consider intervals \n",
        "#ANTI-VACCINATION STANCE: [0-0.4]\n",
        "#NEUTRAL: [0.4-0.6]\n",
        "#PRO-VACCINATION: [0.6-1]\n",
        "\n",
        "anti_vax = []\n",
        "neutral = []\n",
        "pro_vax = []\n",
        "\n",
        "for i in range(len(results_array)):\n",
        "  result = float(results_array[i][0])\n",
        "\n",
        "  if (result > 0.0) and (result < 0.4):\n",
        "    anti_vax.append(result)\n",
        "  elif (result >= 0.4) and (result <= 0.6):\n",
        "    neutral.append(result)\n",
        "  else:\n",
        "    pro_vax.append(result)\n",
        "\n",
        "#sort the values for each stance interval\n",
        "\n",
        "#to measure distinctness, subtract the median anti_vax from the median pro_vax\n",
        "#distinctness = np.median(pro_vax) - np.median(anti_vax)\n",
        "\n",
        "anti_vax.sort()\n",
        "neutral.sort()\n",
        "pro_vax.sort()\n",
        "\n",
        "distinct_measure = np.median(pro_vax) - np.median(anti_vax)\n",
        "\n",
        "#the larger the distinctness the more polarized these two belief distributions are\n",
        "print(f\"The measure of distinctness between the pro vaccination beliefs and anti vaccination beliefs: {distinct_measure}\")\n",
        "\n",
        "#Group Consesus: Take the standard variation of each group, smaller the number the better\n",
        "\n",
        "anti_vax_std = np.array(anti_vax).std()\n",
        "pro_vax_std = np.array(pro_vax).std()\n",
        "\n",
        "print(f\"Anti_Vax standard deviation(dispersion): {anti_vax_std}, Pro_Vaccination standard deviation {pro_vax_std}\")\n",
        "\n",
        "#Size: if the two belief groups are similar in size, more polarize\n",
        "\n",
        "anti_vax_size = len(anti_vax)\n",
        "pro_vax_size = len(pro_vax)\n",
        "\n",
        "print(f\"Size of anti vax belief group: {anti_vax_size}, Size of pro vax belief group: {pro_vax_size}\")\n",
        "\n",
        "vector = [spread, results_array.std(), distinct_measure, coverage, (anti_vax_std + pro_vax_std), (anti_vax_size + pro_vax_size)]\n",
        "\n",
        "magnitude = (sum([x**2 for x in vector])**0.5)\n",
        "\n",
        "print(f\"\\nThe Magnitude of the 6D Vector: {magnitude}\")\n",
        "\n",
        "count_conditions = 0\n",
        "\n",
        "if(spread >= 0.8):\n",
        "  count_conditions += 1\n",
        "\n",
        "if(results_array.std() > 0.33):\n",
        "  count_conditions += 1\n",
        "\n",
        "if(distinct_measure >= 0.6):\n",
        "  count_conditions += 1\n",
        "\n",
        "if(coverage >= 0.3):\n",
        "  count_conditions += 1\n",
        "\n",
        "if(anti_vax_std <= 0.15 and pro_vax_std <= 0.15):\n",
        "  count_conditions += 1\n",
        "\n",
        "if(abs(anti_vax_size - pro_vax_size) <= (0.1)*(anti_vax_size + pro_vax_size)):\n",
        "  count_conditions += 1\n",
        "\n",
        "if count_conditions == 5 or count_conditions == 6:\n",
        "  print(\"Highly Polarized Topic\")\n",
        "elif count_conditions == 3 or count_conditions == 4:\n",
        "  print(\"Polarized\")\n",
        "elif count_conditions == 2:\n",
        "  print(\"Moderately Polarized\")\n",
        "elif count_conditions == 1 or count_conditions == 0:\n",
        "  print(\"Not polarized\")\n",
        "\n",
        "\n",
        "print(f\"{count_conditions}/6 of the conditions were met for this belief distribution\")"
      ],
      "metadata": {
        "colab": {
          "base_uri": "https://localhost:8080/"
        },
        "id": "jRl6_plYvrbK",
        "outputId": "453b3f4b-deda-4334-a22c-4af667785051"
      },
      "execution_count": null,
      "outputs": [
        {
          "output_type": "stream",
          "name": "stdout",
          "text": [
            "Below are the calculations for each of the 6 properties defined for polarization\n",
            "This all relates to the topic of vaccination during the covid-19 pandemic.\n",
            "\n",
            "The spread of this dataset: 0.972287118434906\n",
            "The standard deviation of this dataset: 0.3234701156616211\n",
            "The coverage of this distribution is: 0, there are no empty bins\n",
            "The measure of distinctness between the pro vaccination beliefs and anti vaccination beliefs: 0.6898642927408218\n",
            "Anti_Vax standard deviation(dispersion): 0.10788021241910156, Pro_Vaccination standard deviation 0.11021197085351325\n",
            "Size of anti vax belief group: 243, Size of pro vax belief group: 267\n",
            "\n",
            "The Magnitude of the 6D Vector: 510.0015425977643\n",
            "Polarized\n",
            "4/6 of the conditions were met for this belief distribution\n"
          ]
        }
      ]
    },
    {
      "cell_type": "markdown",
      "source": [
        "## Gun Rights Stance/Belief Distribution"
      ],
      "metadata": {
        "id": "OnVjGpbNuJnr"
      }
    },
    {
      "cell_type": "code",
      "source": [
        "#@title\n",
        "X = guns_df['str_preprocessed_tweets_final'].values\n",
        "y = guns_df['label'].values\n",
        "\n",
        "X_train, X_test, y_train, y_test = train_test_split(X, y, test_size=0.2, random_state=0)\n",
        "\n",
        "results = tf.sigmoid(guns_reloaded_model(tf.constant(X_test)))\n",
        "\n",
        "sns.distplot(results, bins=50)"
      ],
      "metadata": {
        "colab": {
          "base_uri": "https://localhost:8080/",
          "height": 337
        },
        "cellView": "form",
        "id": "JU37Jrb4rnig",
        "outputId": "27bf7db8-100d-4a0b-9abf-00dead213fbd"
      },
      "execution_count": null,
      "outputs": [
        {
          "output_type": "stream",
          "name": "stderr",
          "text": [
            "/usr/local/lib/python3.7/dist-packages/seaborn/distributions.py:2619: FutureWarning: `distplot` is a deprecated function and will be removed in a future version. Please adapt your code to use either `displot` (a figure-level function with similar flexibility) or `histplot` (an axes-level function for histograms).\n",
            "  warnings.warn(msg, FutureWarning)\n"
          ]
        },
        {
          "output_type": "execute_result",
          "data": {
            "text/plain": [
              "<matplotlib.axes._subplots.AxesSubplot at 0x7ffa69383850>"
            ]
          },
          "metadata": {},
          "execution_count": 27
        },
        {
          "output_type": "display_data",
          "data": {
            "text/plain": [
              "<Figure size 432x288 with 1 Axes>"
            ],
            "image/png": "[encoded data removed]"
          },
          "metadata": {
            "needs_background": "light"
          }
        }
      ]
    },
    {
      "cell_type": "code",
      "source": [
        "#@title\n",
        "results_array = np.array(results)\n",
        "min_stance = results_array.min()\n",
        "max_stance = results_array.max()\n",
        "\n",
        "spread = max_stance - min_stance\n",
        "print(f\"The spread of this dataset: {spread}\")\n",
        "\n",
        "#2.)Calculating Measures of Dispersion, Absolute Mean Deviation, a low number would indicate less polarization\n",
        "#in the sense that the stances are all centered around a central neutral value. However if the dataset stance\n",
        "#distribution has higher measures of dispersion meaning the stances are far away from a central value\n",
        "#and are tending towards the extreme poles. \n",
        "\n",
        "from numpy import mean, absolute\n",
        "print(f\"The standard deviation of this dataset: {results_array.std()}\")\n",
        "\n",
        "\n",
        "coverage = 1-(0.75-0.25)\n",
        "\n",
        "#4.)Distinctness: for this calculation i will consider intervals \n",
        "#ANTI-VACCINATION STANCE: [0-0.4]\n",
        "#NEUTRAL: [0.4-0.6]\n",
        "#PRO-VACCINATION: [0.6-1]\n",
        "\n",
        "anti_gun = []\n",
        "neutral = []\n",
        "pro_gun = []\n",
        "\n",
        "for i in range(len(results_array)):\n",
        "  result = float(results_array[i][0])\n",
        "\n",
        "  if (result > 0.0) and (result < 0.4):\n",
        "    anti_gun.append(result)\n",
        "  elif (result >= 0.4) and (result <= 0.6):\n",
        "    neutral.append(result)\n",
        "  else:\n",
        "    pro_gun.append(result)\n",
        "\n",
        "#sort the values for each stance interval\n",
        "\n",
        "#to measure distinctness, subtract the median anti_vax from the median pro_vax\n",
        "#distinctness = np.median(pro_vax) - np.median(anti_vax)\n",
        "\n",
        "anti_gun.sort()\n",
        "neutral.sort()\n",
        "pro_gun.sort()\n",
        "\n",
        "distinct_measure = np.median(pro_gun) - np.median(anti_gun)\n",
        "\n",
        "#the larger the distinctness the more polarized these two belief distributions are\n",
        "print(f\"The measure of distinctness between the pro gun rights beliefs and anti gun beliefs: {distinct_measure}\")\n",
        "\n",
        "#Group Consesus: Take the standard variation of each group, smaller the number the better\n",
        "\n",
        "anti_gun_std = np.array(anti_gun).std()\n",
        "pro_gun_std = np.array(pro_gun).std()\n",
        "\n",
        "print(f\"Anti_Gun standard deviation: {anti_gun_std}, Pro_Gun standard deviation {pro_gun_std}\")\n",
        "\n",
        "#Size: if the two belief groups are similar in size, more polarized\n",
        "\n",
        "anti_gun_size = len(anti_gun)\n",
        "pro_gun_size = len(pro_gun)\n",
        "\n",
        "print(f\"The coverage of this distribution:{coverage}\")\n",
        "\n",
        "print(f\"Size of anti gun belief group: {anti_gun_size}, Size of pro gun belief group: {pro_gun_size}\\n\")\n",
        "\n",
        "vector = [spread, results_array.std(), distinct_measure, coverage, (anti_gun_std + pro_gun_std), (anti_gun_size + pro_gun_size)]\n",
        "\n",
        "magnitude = (sum([x**2 for x in vector])**0.5)\n",
        "\n",
        "print(f\"\\nThe Magnitude of the 6D Vector: {magnitude}\")\n",
        "\n",
        "count_conditions = 0\n",
        "if(spread >= 0.8):\n",
        "  count_conditions += 1\n",
        "\n",
        "if(results_array.std() > 0.33):\n",
        "  count_conditions += 1\n",
        "\n",
        "if(distinct_measure >= 0.6):\n",
        "  count_conditions += 1\n",
        "\n",
        "if(coverage >= 0.3):\n",
        "  count_conditions += 1\n",
        "\n",
        "if(anti_gun_std <= 0.15 and pro_gun_std <= 0.15):\n",
        "  count_conditions += 1\n",
        "\n",
        "if(abs(anti_gun_size - pro_gun_size) <= (0.1)*(anti_gun_size + pro_gun_size)):\n",
        "  count_conditions += 1\n",
        "\n",
        "if count_conditions == 5 or count_conditions == 6:\n",
        "  print(\"Highly Polarized Topic\")\n",
        "elif count_conditions == 3 or count_conditions == 4:\n",
        "  print(\"Polarized\")\n",
        "elif count_conditions == 2:\n",
        "  print(\"Moderately Polarized\")\n",
        "elif count_conditions == 1 or count_conditions == 0:\n",
        "  print(\"Not polarized\")\n",
        "\n",
        "print(f\"{count_conditions}/6 of the conditions were met for this belief distribution\")"
      ],
      "metadata": {
        "colab": {
          "base_uri": "https://localhost:8080/"
        },
        "cellView": "form",
        "id": "q7ztkpqkym_T",
        "outputId": "e4a99133-daf1-44b0-8c8b-5ccef3738f56"
      },
      "execution_count": null,
      "outputs": [
        {
          "output_type": "stream",
          "name": "stdout",
          "text": [
            "The spread of this dataset: 0.999821662902832\n",
            "The standard deviation of this dataset: 0.49556320905685425\n",
            "The measure of distinctness between the pro gun rights beliefs and anti gun beliefs: 0.99972380870895\n",
            "Anti_Gun standard deviation: 0.0014946866915265399, Pro_Gun standard deviation 7.258566786077966e-05\n",
            "The coverage of this distribution:0.5\n",
            "Size of anti gun belief group: 501, Size of pro gun belief group: 651\n",
            "\n",
            "\n",
            "The Magnitude of the 6D Vector: 1152.0010827583462\n",
            "Highly Polarized Topic\n",
            "5/6 of the conditions were met for this belief distribution\n"
          ]
        }
      ]
    },
    {
      "cell_type": "markdown",
      "source": [
        "## Abortion Rights Stance/Belief Distribution"
      ],
      "metadata": {
        "id": "4tQmt8EsugFj"
      }
    },
    {
      "cell_type": "code",
      "source": [
        "#@title\n",
        "X = abortion_df['str_preprocessed_tweets_final'].values\n",
        "y = abortion_df['stance'].values\n",
        "\n",
        "X_train, X_test, y_train, y_test = train_test_split(X, y, test_size=0.2, random_state=0)\n",
        "\n",
        "results = tf.sigmoid(abortion_reloaded_model(tf.constant(X_test)))\n",
        "\n",
        "sns.distplot(results, bins=50)"
      ],
      "metadata": {
        "colab": {
          "base_uri": "https://localhost:8080/",
          "height": 337
        },
        "cellView": "form",
        "id": "LmaiAP5jtrlA",
        "outputId": "23703de5-1db5-43e2-ab91-febe2b5e8715"
      },
      "execution_count": null,
      "outputs": [
        {
          "output_type": "stream",
          "name": "stderr",
          "text": [
            "/usr/local/lib/python3.7/dist-packages/seaborn/distributions.py:2619: FutureWarning: `distplot` is a deprecated function and will be removed in a future version. Please adapt your code to use either `displot` (a figure-level function with similar flexibility) or `histplot` (an axes-level function for histograms).\n",
            "  warnings.warn(msg, FutureWarning)\n"
          ]
        },
        {
          "output_type": "execute_result",
          "data": {
            "text/plain": [
              "<matplotlib.axes._subplots.AxesSubplot at 0x7ffa6921b150>"
            ]
          },
          "metadata": {},
          "execution_count": 29
        },
        {
          "output_type": "display_data",
          "data": {
            "text/plain": [
              "<Figure size 432x288 with 1 Axes>"
            ],
            "image/png": "[encoded data removed]"
          },
          "metadata": {
            "needs_background": "light"
          }
        }
      ]
    },
    {
      "cell_type": "code",
      "source": [
        "#@title\n",
        "results_array = np.array(results)\n",
        "min_stance = results_array.min()\n",
        "max_stance = results_array.max()\n",
        "\n",
        "spread = max_stance - min_stance\n",
        "\n",
        "print(f\"The spread of this dataset: {spread}\")\n",
        "\n",
        "#2.)Calculating Measures of Dispersion, Absolute Mean Deviation, a low number would indicate less polarization\n",
        "#in the sense that the stances are all centered around a central neutral value. However if the dataset stance\n",
        "#distribution has higher measures of dispersion meaning the stances are far away from a central value\n",
        "#and are tending towards the extreme poles. \n",
        "\n",
        "from numpy import mean, absolute\n",
        "print(f\"The standard deviation of this dataset: {results_array.std()}\")\n",
        "\n",
        "coverage = 1-(0.75-0.25)\n",
        "print(f\"The coverage of this distribution is: {coverage}\")\n",
        "\n",
        "#4.)Distinctness: for this calculation i will consider intervals \n",
        "\n",
        "\n",
        "anti_abortion = []\n",
        "neutral = []\n",
        "pro_abortion = []\n",
        "\n",
        "for i in range(len(results_array)):\n",
        "  result = float(results_array[i][0])\n",
        "\n",
        "  if (result > 0.0) and (result < 0.4):\n",
        "    anti_abortion.append(result)\n",
        "  elif (result >= 0.4) and (result <= 0.6):\n",
        "    neutral.append(result)\n",
        "  else:\n",
        "    pro_abortion.append(result)\n",
        "\n",
        "#sort the values for each stance interval\n",
        "\n",
        "\n",
        "anti_abortion.sort()\n",
        "neutral.sort()\n",
        "pro_abortion.sort()\n",
        "\n",
        "distinct_measure = np.median(pro_abortion) - np.median(anti_abortion)\n",
        "\n",
        "#the larger the distinctness the more polarized these two belief distributions are\n",
        "print(f\"The measure of distinctness between the pro abortion beliefs and anti abortion beliefs: {distinct_measure}\")\n",
        "\n",
        "#Group Consesus: Take the standard variation of each group, smaller the number the better\n",
        "\n",
        "anti_abortion_std = np.array(anti_abortion).std()\n",
        "pro_abortion_std = np.array(pro_abortion).std()\n",
        "\n",
        "print(f\"Anti_Abortion standard deviation(dispersion): {anti_abortion_std}, Pro_Abortion standard deviation {pro_abortion_std}\")\n",
        "\n",
        "#Size: if the two belief groups are similar in size, more polarized\n",
        "\n",
        "anti_abortion_size = len(anti_abortion)\n",
        "pro_abortion_size = len(pro_abortion)\n",
        "\n",
        "print(f\"Size of anti abortion belief group: {anti_abortion_size}, Size of pro abortion belief group: {pro_abortion_size}\")\n",
        "\n",
        "vector = [spread, results_array.std(), distinct_measure, coverage, (anti_abortion_std + pro_abortion_std), (anti_abortion_size + pro_abortion_size)]\n",
        "\n",
        "magnitude = (sum([x**2 for x in vector])**0.5)\n",
        "\n",
        "print(f\"\\nThe Magnitude of the 6D Vector: {magnitude}\")\n",
        "\n",
        "count_conditions = 0\n",
        "\n",
        "if(spread >= 0.8):\n",
        "  count_conditions += 1\n",
        "\n",
        "if(results_array.std() > 0.33):\n",
        "  count_conditions += 1\n",
        "\n",
        "if(distinct_measure >= 0.6):\n",
        "  count_conditions += 1\n",
        "\n",
        "if(coverage >= 0.3):\n",
        "  count_conditions += 1\n",
        "\n",
        "if(anti_abortion_std <= 0.15 and pro_abortion_std <= 0.15):\n",
        "  count_conditions += 1\n",
        "\n",
        "if(abs(anti_abortion_size - pro_abortion_size) <= (anti_abortion_size + pro_abortion_size)):\n",
        "  count_conditions += 1\n",
        "\n",
        "if count_conditions == 5 or count_conditions == 6:\n",
        "  print(\"Highly Polarized Topic\")\n",
        "elif count_conditions == 3 or count_conditions == 4:\n",
        "  print(\"Polarized\")\n",
        "elif count_conditions == 2:\n",
        "  print(\"Moderately Polarized\")\n",
        "elif count_conditions == 1 or count_conditions == 0:\n",
        "  print(\"Not polarized\")\n",
        "\n",
        "print(f\"{count_conditions}/6 of the conditions were met for this belief distribution\")"
      ],
      "metadata": {
        "colab": {
          "base_uri": "https://localhost:8080/"
        },
        "id": "lpC52D2kufQs",
        "outputId": "2164eef0-04db-456d-e12b-b9959324f56b"
      },
      "execution_count": null,
      "outputs": [
        {
          "output_type": "stream",
          "name": "stdout",
          "text": [
            "The spread of this dataset: 0.9991188645362854\n",
            "The standard deviation of this dataset: 0.4788261353969574\n",
            "The coverage of this distribution is: 0.5\n",
            "The measure of distinctness between the pro abortion beliefs and anti abortion beliefs: 0.998369476699736\n",
            "Anti_Abortion standard deviation(dispersion): 0.01475958849252806, Pro_Abortion standard deviation 0.0121839613030161\n",
            "Size of anti abortion belief group: 354, Size of pro abortion belief group: 621\n",
            "\n",
            "The Magnitude of the 6D Vector: 975.0012692199638\n",
            "Highly Polarized Topic\n",
            "6/6 of the conditions were met for this belief distribution\n"
          ]
        }
      ]
    },
    {
      "cell_type": "markdown",
      "source": [
        "## Sentiment Analysis of Tweets for each Topic with VADER"
      ],
      "metadata": {
        "id": "a53QlTGR-G7O"
      }
    },
    {
      "cell_type": "markdown",
      "source": [
        "## Covid Data Sentiment Analysis\n",
        "\n",
        "![image](data:image/png;base64,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)"
      ],
      "metadata": {
        "id": "aho_q9xw-_mt"
      }
    },
    {
      "cell_type": "markdown",
      "source": [
        "## Gun Rights Sentiment Analysis\n",
        "\n",
        "![image](data:image/png;base64,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)"
      ],
      "metadata": {
        "id": "d_yEP_oH_LoP"
      }
    },
    {
      "cell_type": "markdown",
      "source": [
        "## Abortion Rights Sentiment Analysis\n",
        "\n",
        "![image](data:image/png;base64,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)"
      ],
      "metadata": {
        "id": "ohLSyv-X_bko"
      }
    },
    {
      "cell_type": "code",
      "source": [
        "%%shell\n",
        "jupyter nbconvert --to html /content/final_demo.ipynb"
      ],
      "metadata": {
        "id": "-SrjJqv2Ciz1",
        "colab": {
          "base_uri": "https://localhost:8080/"
        },
        "outputId": "648c9412-bab4-4bc9-a8d5-978a019234c5"
      },
      "execution_count": null,
      "outputs": [
        {
          "output_type": "stream",
          "name": "stdout",
          "text": [
            "[NbConvertApp] Converting notebook /content/final_demo.ipynb to html\n",
            "[NbConvertApp] Writing 432335 bytes to /content/final_demo.html\n"
          ]
        },
        {
          "output_type": "execute_result",
          "data": {
            "text/plain": [
              ""
            ]
          },
          "metadata": {},
          "execution_count": 37
        }
      ]
    },
    {
      "cell_type": "code",
      "source": [],
      "metadata": {
        "id": "NqrxzjouwDyy"
      },
      "execution_count": null,
      "outputs": []
    }
  ]
}